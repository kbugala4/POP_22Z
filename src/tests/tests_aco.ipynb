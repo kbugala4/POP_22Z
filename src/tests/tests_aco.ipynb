{
 "cells": [
  {
   "cell_type": "code",
   "execution_count": 15,
   "metadata": {},
   "outputs": [],
   "source": [
    "import numpy as np\n",
    "from random import randint\n",
    "import sys\n",
    "sys.path.append(\"..\")\n",
    "from solvers.aco.aco_solver import AntColonyOptSolver\n",
    "from problem.sudoku_manager import Sudoku, generate_boards"
   ]
  },
  {
   "cell_type": "code",
   "execution_count": 16,
   "metadata": {},
   "outputs": [],
   "source": [
    "sud = Sudoku('hard', randint(0, 49))"
   ]
  },
  {
   "cell_type": "code",
   "execution_count": 17,
   "metadata": {},
   "outputs": [
    {
     "name": "stdout",
     "output_type": "stream",
     "text": [
      "[[7 6 9 0 5 0 0 4 0]\n",
      " [0 0 1 4 0 0 0 0 0]\n",
      " [8 4 2 0 0 0 0 0 5]\n",
      " [1 0 3 0 0 8 0 7 0]\n",
      " [9 0 0 6 0 2 0 0 0]\n",
      " [0 0 0 1 0 0 0 8 0]\n",
      " [2 0 0 0 0 5 6 0 0]\n",
      " [0 3 0 0 0 0 7 0 0]\n",
      " [0 0 0 8 0 0 0 1 0]]\n"
     ]
    }
   ],
   "source": [
    "print(sud.board)"
   ]
  },
  {
   "cell_type": "code",
   "execution_count": 18,
   "metadata": {},
   "outputs": [
    {
     "name": "stdout",
     "output_type": "stream",
     "text": [
      "27\n"
     ]
    }
   ],
   "source": [
    "print(sud.fixed_count)"
   ]
  },
  {
   "cell_type": "code",
   "execution_count": 19,
   "metadata": {},
   "outputs": [
    {
     "name": "stdout",
     "output_type": "stream",
     "text": [
      "{(0, 3): {2, 3}, (0, 5): {1, 3}, (0, 6): {1, 2, 3, 8}, (0, 8): {1, 2, 3, 8}, (1, 0): {3, 5}, (1, 1): {2, 5}, (1, 4): {2, 3, 6, 7, 8, 9}, (1, 5): {3, 6, 7, 9}, (1, 6): {2, 3, 8, 9}, (1, 7): {2, 3, 6, 9}, (1, 8): {2, 3, 6, 7, 8, 9}, (2, 2): {2}, (2, 3): {3, 7, 9}, (2, 4): {1, 3, 6, 7, 9}, (2, 5): {1, 3, 6, 7, 9}, (2, 6): {1, 3, 9}, (2, 7): {3, 6, 9}, (3, 1): {2, 5}, (3, 3): {5, 9}, (3, 4): {4, 9}, (3, 6): {2, 4, 5, 9}, (3, 8): {2, 4, 6, 9}, (4, 1): {5, 7, 8}, (4, 2): {4, 5, 7, 8}, (4, 4): {3, 4, 7}, (4, 6): {1, 3, 4, 5}, (4, 7): {3, 5}, (4, 8): {1, 3, 4}, (5, 0): {4, 5, 6}, (5, 1): {2, 5, 7}, (5, 2): {4, 5, 6, 7}, (5, 4): {3, 4, 7, 9}, (5, 5): {3, 4, 7, 9}, (5, 6): {2, 3, 4, 5, 9}, (5, 8): {2, 3, 4, 6, 9}, (6, 1): {1, 7, 8, 9}, (6, 2): {4, 7, 8}, (6, 3): {3, 7, 9}, (6, 4): {1, 3, 4, 7, 9}, (6, 7): {3, 9}, (6, 8): {3, 4, 8, 9}, (7, 0): {4, 5, 6}, (7, 2): {4, 5, 6, 8}, (7, 3): {2, 9}, (7, 4): {1, 2, 4, 6, 9}, (7, 5): {1, 4, 6, 9}, (7, 7): {2, 5, 9}, (7, 8): {2, 4, 8, 9}, (8, 0): {4, 5, 6}, (8, 1): {5, 7, 9}, (8, 2): {4, 5, 6, 7}, (8, 4): {2, 3, 4, 6, 7, 9}, (8, 5): {3, 4, 6, 7, 9}, (8, 6): {2, 3, 4, 5, 9}, (8, 8): {2, 3, 4, 9}}\n"
     ]
    }
   ],
   "source": [
    "print(sud.state)"
   ]
  },
  {
   "cell_type": "code",
   "execution_count": 20,
   "metadata": {},
   "outputs": [],
   "source": [
    "solver = AntColonyOptSolver()"
   ]
  },
  {
   "cell_type": "code",
   "execution_count": 21,
   "metadata": {},
   "outputs": [
    {
     "data": {
      "text/plain": [
       "array([[7, 6, 9, 2, 5, 1, 8, 4, 3],\n",
       "       [3, 5, 1, 4, 8, 9, 2, 6, 7],\n",
       "       [8, 4, 2, 3, 6, 7, 1, 9, 5],\n",
       "       [1, 2, 3, 5, 9, 8, 4, 7, 6],\n",
       "       [9, 8, 4, 6, 7, 2, 3, 5, 1],\n",
       "       [5, 7, 6, 1, 3, 4, 9, 8, 2],\n",
       "       [2, 1, 8, 7, 4, 5, 6, 3, 9],\n",
       "       [4, 3, 5, 9, 1, 6, 7, 2, 8],\n",
       "       [6, 9, 7, 8, 2, 3, 5, 1, 4]])"
      ]
     },
     "execution_count": 21,
     "metadata": {},
     "output_type": "execute_result"
    }
   ],
   "source": [
    "solver.solve(sudoku=sud)"
   ]
  }
 ],
 "metadata": {
  "kernelspec": {
   "display_name": "Python 3",
   "language": "python",
   "name": "python3"
  },
  "language_info": {
   "codemirror_mode": {
    "name": "ipython",
    "version": 3
   },
   "file_extension": ".py",
   "mimetype": "text/x-python",
   "name": "python",
   "nbconvert_exporter": "python",
   "pygments_lexer": "ipython3",
   "version": "3.9.6"
  },
  "orig_nbformat": 4,
  "vscode": {
   "interpreter": {
    "hash": "31f2aee4e71d21fbe5cf8b01ff0e069b9275f58929596ceb00d14d90e3e16cd6"
   }
  }
 },
 "nbformat": 4,
 "nbformat_minor": 2
}
