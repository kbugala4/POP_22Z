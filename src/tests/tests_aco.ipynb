{
 "cells": [
  {
   "cell_type": "code",
   "execution_count": 1,
   "metadata": {},
   "outputs": [],
   "source": [
    "import numpy as np\n",
    "from random import randint\n",
    "import sys\n",
    "sys.path.append(\"..\")\n",
    "from solvers.aco.aco_solver import AntColonyOptSolver\n",
    "from problem.sudoku_manager import Sudoku, generate_boards"
   ]
  },
  {
   "cell_type": "code",
   "execution_count": 2,
   "metadata": {},
   "outputs": [],
   "source": [
    "sud = Sudoku('hard', randint(0, 49))"
   ]
  },
  {
   "cell_type": "code",
   "execution_count": 3,
   "metadata": {},
   "outputs": [
    {
     "name": "stdout",
     "output_type": "stream",
     "text": [
      "[[0 0 0 0 8 5 1 0 0]\n",
      " [8 0 9 0 0 4 2 0 0]\n",
      " [2 1 0 0 0 7 8 0 4]\n",
      " [0 0 8 0 9 6 0 7 0]\n",
      " [0 9 0 5 0 0 0 1 0]\n",
      " [0 7 0 0 0 2 0 0 3]\n",
      " [0 0 2 0 0 0 0 0 0]\n",
      " [0 3 0 0 0 0 0 0 0]\n",
      " [7 0 0 0 0 0 3 6 0]]\n"
     ]
    }
   ],
   "source": [
    "print(sud.board)"
   ]
  },
  {
   "cell_type": "code",
   "execution_count": 4,
   "metadata": {},
   "outputs": [
    {
     "name": "stdout",
     "output_type": "stream",
     "text": [
      "27\n"
     ]
    }
   ],
   "source": [
    "print(sud.fixed_count)"
   ]
  },
  {
   "cell_type": "code",
   "execution_count": 5,
   "metadata": {},
   "outputs": [
    {
     "name": "stdout",
     "output_type": "stream",
     "text": [
      "{(0, 0): {3, 4, 6}, (0, 1): {4, 6}, (0, 2): {3, 4, 6, 7}, (0, 3): {2, 3, 6, 9}, (0, 7): {3, 9}, (0, 8): {6, 7, 9}, (1, 1): {5, 6}, (1, 3): {1, 3, 6}, (1, 4): {1, 3, 6}, (1, 7): {3, 5}, (1, 8): {5, 6, 7}, (2, 2): {3, 5, 6}, (2, 3): {3, 6, 9}, (2, 4): {3, 6}, (2, 7): {3, 5, 9}, (3, 0): {1, 3, 4, 5}, (3, 1): {2, 4, 5}, (3, 3): {1, 3, 4}, (3, 6): {4, 5}, (3, 8): {2, 5}, (4, 0): {3, 4, 6}, (4, 2): {3, 4, 6}, (4, 4): {3, 4, 7}, (4, 5): {3, 8}, (4, 6): {4, 6}, (4, 8): {2, 6, 8}, (5, 0): {1, 4, 5, 6}, (5, 2): {1, 4, 5, 6}, (5, 3): {1, 4, 8}, (5, 4): {1, 4}, (5, 6): {4, 5, 6, 9}, (5, 7): {4, 5, 8, 9}, (6, 0): {1, 4, 5, 6, 9}, (6, 1): {4, 5, 6, 8}, (6, 3): {1, 3, 4, 6, 7, 8, 9}, (6, 4): {1, 3, 4, 5, 6, 7}, (6, 5): {1, 3, 8, 9}, (6, 6): {4, 5, 7, 9}, (6, 7): {4, 5, 8, 9}, (6, 8): {1, 5, 7, 8, 9}, (7, 0): {1, 4, 5, 6, 9}, (7, 2): {1, 4, 5, 6}, (7, 3): {1, 2, 4, 6, 7, 8, 9}, (7, 4): {1, 2, 4, 5, 6, 7}, (7, 5): {1, 8, 9}, (7, 6): {4, 5, 7, 9}, (7, 7): {2, 4, 5, 8, 9}, (7, 8): {1, 2, 5, 7, 8, 9}, (8, 1): {4, 5, 8}, (8, 2): {1, 4, 5}, (8, 3): {1, 2, 4, 8, 9}, (8, 4): {1, 2, 4, 5}, (8, 5): {1, 8, 9}, (8, 8): {1, 2, 5, 8, 9}}\n"
     ]
    }
   ],
   "source": [
    "print(sud.state)"
   ]
  },
  {
   "cell_type": "code",
   "execution_count": 6,
   "metadata": {},
   "outputs": [],
   "source": [
    "solver = AntColonyOptSolver()"
   ]
  },
  {
   "cell_type": "code",
   "execution_count": 7,
   "metadata": {},
   "outputs": [
    {
     "name": "stdout",
     "output_type": "stream",
     "text": [
      "EPOCH 1: most fixed = 75, failed count: 3, sol:\n",
      " [[3 4 7 2 8 5 1 9 6]\n",
      " [8 6 9 3 1 4 2 5 7]\n",
      " [2 1 5 9 6 7 8 3 4]\n",
      " [5 2 8 1 9 6 4 7 0]\n",
      " [4 9 0 5 7 3 6 1 2]\n",
      " [1 7 6 8 4 2 9 0 3]\n",
      " [6 8 2 7 3 1 5 4 9]\n",
      " [9 3 4 6 5 8 7 2 1]\n",
      " [7 5 1 4 2 9 3 6 8]]\n",
      "EPOCH 2: most fixed = 77, failed count: 2, sol:\n",
      " [[3 4 7 2 8 5 1 9 6]\n",
      " [8 6 9 1 3 4 2 5 7]\n",
      " [2 1 5 9 6 7 8 3 4]\n",
      " [1 2 8 3 9 6 4 7 5]\n",
      " [4 9 3 5 7 8 6 1 2]\n",
      " [5 7 6 0 4 2 9 8 3]\n",
      " [6 8 2 7 1 3 5 4 9]\n",
      " [9 3 4 6 5 0 7 2 1]\n",
      " [7 5 1 4 2 9 3 6 8]]\n",
      "EPOCH 3: most fixed = 81, failed count: 0, sol:\n",
      " [[3 4 7 2 8 5 1 9 6]\n",
      " [8 6 9 1 3 4 2 5 7]\n",
      " [2 1 5 9 6 7 8 3 4]\n",
      " [1 2 8 3 9 6 4 7 5]\n",
      " [4 9 3 5 7 8 6 1 2]\n",
      " [5 7 6 4 1 2 9 8 3]\n",
      " [9 8 2 6 5 3 7 4 1]\n",
      " [6 3 1 7 4 9 5 2 8]\n",
      " [7 5 4 8 2 1 3 6 9]]\n",
      "SUDOKU SOLVED\n"
     ]
    },
    {
     "data": {
      "text/plain": [
       "array([[3, 4, 7, 2, 8, 5, 1, 9, 6],\n",
       "       [8, 6, 9, 1, 3, 4, 2, 5, 7],\n",
       "       [2, 1, 5, 9, 6, 7, 8, 3, 4],\n",
       "       [1, 2, 8, 3, 9, 6, 4, 7, 5],\n",
       "       [4, 9, 3, 5, 7, 8, 6, 1, 2],\n",
       "       [5, 7, 6, 4, 1, 2, 9, 8, 3],\n",
       "       [9, 8, 2, 6, 5, 3, 7, 4, 1],\n",
       "       [6, 3, 1, 7, 4, 9, 5, 2, 8],\n",
       "       [7, 5, 4, 8, 2, 1, 3, 6, 9]])"
      ]
     },
     "execution_count": 7,
     "metadata": {},
     "output_type": "execute_result"
    }
   ],
   "source": [
    "solver.solve(sudoku=sud, ants_count=5)"
   ]
  }
 ],
 "metadata": {
  "kernelspec": {
   "display_name": "Python 3",
   "language": "python",
   "name": "python3"
  },
  "language_info": {
   "codemirror_mode": {
    "name": "ipython",
    "version": 3
   },
   "file_extension": ".py",
   "mimetype": "text/x-python",
   "name": "python",
   "nbconvert_exporter": "python",
   "pygments_lexer": "ipython3",
   "version": "3.9.6"
  },
  "orig_nbformat": 4,
  "vscode": {
   "interpreter": {
    "hash": "31f2aee4e71d21fbe5cf8b01ff0e069b9275f58929596ceb00d14d90e3e16cd6"
   }
  }
 },
 "nbformat": 4,
 "nbformat_minor": 2
}
