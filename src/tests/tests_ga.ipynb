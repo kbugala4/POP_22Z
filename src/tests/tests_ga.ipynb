{
 "cells": [
  {
   "cell_type": "code",
   "execution_count": 1,
   "metadata": {},
   "outputs": [],
   "source": [
    "import numpy as np\n",
    "import sys\n",
    "sys.path.append(\"..\")\n",
    "from solvers.ga.ga_solver import GeneticAlgorithmSolver\n",
    "from problem.sudoku_manager import Sudoku, generate_boards"
   ]
  },
  {
   "cell_type": "code",
   "execution_count": 2,
   "metadata": {},
   "outputs": [],
   "source": [
    "sud = Sudoku('medium', 34)"
   ]
  },
  {
   "cell_type": "code",
   "execution_count": 3,
   "metadata": {},
   "outputs": [
    {
     "data": {
      "text/plain": [
       "array([[0, 0, 3, 1, 0, 4, 0, 0, 0],\n",
       "       [0, 0, 9, 0, 0, 3, 0, 0, 7],\n",
       "       [0, 8, 2, 5, 0, 7, 9, 3, 0],\n",
       "       [0, 1, 0, 3, 0, 8, 0, 0, 0],\n",
       "       [0, 9, 0, 4, 0, 6, 2, 0, 0],\n",
       "       [3, 0, 0, 0, 1, 0, 4, 0, 0],\n",
       "       [0, 0, 0, 6, 3, 0, 0, 0, 0],\n",
       "       [0, 0, 0, 7, 0, 0, 0, 8, 6],\n",
       "       [0, 0, 7, 0, 4, 1, 3, 0, 0]])"
      ]
     },
     "execution_count": 3,
     "metadata": {},
     "output_type": "execute_result"
    }
   ],
   "source": [
    "new_solver = GeneticAlgorithmSolver(pop_size=500,  pc=0.8, pm=0.15, max_epoch=100, reset_condition_val=100, succession_rate = 0.95)\n",
    "sud.board"
   ]
  },
  {
   "cell_type": "code",
   "execution_count": 4,
   "metadata": {},
   "outputs": [
    {
     "name": "stdout",
     "output_type": "stream",
     "text": [
      "Improvement! Score: 207/243\n",
      "Epoch: 0 best_global: 207/243, best_local: 207/243\n",
      "Improvement! Score: 210/243\n",
      "Epoch: 1 best_global: 210/243, best_local: 210/243\n",
      "Epoch: 2 best_global: 210/243, best_local: 210/243\n",
      "Epoch: 3 best_global: 210/243, best_local: 207/243\n",
      "Epoch: 4 best_global: 210/243, best_local: 210/243\n",
      "Improvement! Score: 211/243\n",
      "Epoch: 5 best_global: 211/243, best_local: 211/243\n",
      "Improvement! Score: 214/243\n",
      "Epoch: 6 best_global: 214/243, best_local: 214/243\n",
      "Epoch: 7 best_global: 214/243, best_local: 211/243\n",
      "Epoch: 8 best_global: 214/243, best_local: 210/243\n",
      "Epoch: 9 best_global: 214/243, best_local: 210/243\n",
      "Epoch: 10 best_global: 214/243, best_local: 211/243\n",
      "Epoch: 11 best_global: 214/243, best_local: 210/243\n",
      "Epoch: 12 best_global: 214/243, best_local: 210/243\n",
      "Epoch: 13 best_global: 214/243, best_local: 209/243\n",
      "Epoch: 14 best_global: 214/243, best_local: 210/243\n",
      "Epoch: 15 best_global: 214/243, best_local: 211/243\n",
      "Epoch: 16 best_global: 214/243, best_local: 209/243\n",
      "Epoch: 17 best_global: 214/243, best_local: 212/243\n",
      "Epoch: 18 best_global: 214/243, best_local: 210/243\n",
      "Epoch: 19 best_global: 214/243, best_local: 211/243\n",
      "Epoch: 20 best_global: 214/243, best_local: 214/243\n",
      "Epoch: 21 best_global: 214/243, best_local: 212/243\n",
      "Epoch: 22 best_global: 214/243, best_local: 208/243\n",
      "Epoch: 23 best_global: 214/243, best_local: 214/243\n",
      "Epoch: 24 best_global: 214/243, best_local: 213/243\n",
      "Epoch: 25 best_global: 214/243, best_local: 211/243\n",
      "Epoch: 26 best_global: 214/243, best_local: 210/243\n",
      "Epoch: 27 best_global: 214/243, best_local: 212/243\n",
      "Epoch: 28 best_global: 214/243, best_local: 210/243\n",
      "Improvement! Score: 215/243\n",
      "Epoch: 29 best_global: 215/243, best_local: 215/243\n",
      "Epoch: 30 best_global: 215/243, best_local: 209/243\n",
      "Epoch: 31 best_global: 215/243, best_local: 213/243\n",
      "Epoch: 32 best_global: 215/243, best_local: 211/243\n",
      "Epoch: 33 best_global: 215/243, best_local: 213/243\n",
      "Epoch: 34 best_global: 215/243, best_local: 211/243\n",
      "Epoch: 35 best_global: 215/243, best_local: 213/243\n",
      "Epoch: 36 best_global: 215/243, best_local: 210/243\n",
      "Epoch: 37 best_global: 215/243, best_local: 211/243\n",
      "Epoch: 38 best_global: 215/243, best_local: 211/243\n",
      "Epoch: 39 best_global: 215/243, best_local: 211/243\n",
      "Epoch: 40 best_global: 215/243, best_local: 208/243\n",
      "Epoch: 41 best_global: 215/243, best_local: 212/243\n",
      "Epoch: 42 best_global: 215/243, best_local: 212/243\n",
      "Epoch: 43 best_global: 215/243, best_local: 215/243\n",
      "Epoch: 44 best_global: 215/243, best_local: 209/243\n",
      "Epoch: 45 best_global: 215/243, best_local: 210/243\n",
      "Epoch: 46 best_global: 215/243, best_local: 213/243\n",
      "Epoch: 47 best_global: 215/243, best_local: 215/243\n",
      "Epoch: 48 best_global: 215/243, best_local: 214/243\n",
      "Epoch: 49 best_global: 215/243, best_local: 210/243\n",
      "Epoch: 50 best_global: 215/243, best_local: 212/243\n",
      "Epoch: 51 best_global: 215/243, best_local: 211/243\n",
      "Epoch: 52 best_global: 215/243, best_local: 214/243\n",
      "Epoch: 53 best_global: 215/243, best_local: 210/243\n",
      "Epoch: 54 best_global: 215/243, best_local: 210/243\n",
      "Epoch: 55 best_global: 215/243, best_local: 211/243\n",
      "Epoch: 56 best_global: 215/243, best_local: 211/243\n",
      "Epoch: 57 best_global: 215/243, best_local: 210/243\n",
      "Epoch: 58 best_global: 215/243, best_local: 211/243\n",
      "Epoch: 59 best_global: 215/243, best_local: 210/243\n",
      "Epoch: 60 best_global: 215/243, best_local: 210/243\n",
      "Epoch: 61 best_global: 215/243, best_local: 209/243\n",
      "Epoch: 62 best_global: 215/243, best_local: 215/243\n",
      "Epoch: 63 best_global: 215/243, best_local: 212/243\n",
      "Epoch: 64 best_global: 215/243, best_local: 211/243\n",
      "Epoch: 65 best_global: 215/243, best_local: 211/243\n",
      "Epoch: 66 best_global: 215/243, best_local: 215/243\n",
      "Epoch: 67 best_global: 215/243, best_local: 210/243\n",
      "Epoch: 68 best_global: 215/243, best_local: 210/243\n",
      "Epoch: 69 best_global: 215/243, best_local: 211/243\n",
      "Epoch: 70 best_global: 215/243, best_local: 213/243\n",
      "Epoch: 71 best_global: 215/243, best_local: 210/243\n",
      "Epoch: 72 best_global: 215/243, best_local: 211/243\n",
      "Epoch: 73 best_global: 215/243, best_local: 211/243\n",
      "Epoch: 74 best_global: 215/243, best_local: 213/243\n",
      "Epoch: 75 best_global: 215/243, best_local: 208/243\n",
      "Epoch: 76 best_global: 215/243, best_local: 210/243\n",
      "Epoch: 77 best_global: 215/243, best_local: 210/243\n",
      "Epoch: 78 best_global: 215/243, best_local: 213/243\n",
      "Epoch: 79 best_global: 215/243, best_local: 209/243\n",
      "Epoch: 80 best_global: 215/243, best_local: 209/243\n",
      "Epoch: 81 best_global: 215/243, best_local: 211/243\n",
      "Epoch: 82 best_global: 215/243, best_local: 213/243\n",
      "Epoch: 83 best_global: 215/243, best_local: 210/243\n",
      "Epoch: 84 best_global: 215/243, best_local: 210/243\n",
      "Epoch: 85 best_global: 215/243, best_local: 212/243\n",
      "Epoch: 86 best_global: 215/243, best_local: 211/243\n",
      "Epoch: 87 best_global: 215/243, best_local: 213/243\n",
      "Epoch: 88 best_global: 215/243, best_local: 210/243\n",
      "Epoch: 89 best_global: 215/243, best_local: 213/243\n",
      "Epoch: 90 best_global: 215/243, best_local: 210/243\n",
      "Epoch: 91 best_global: 215/243, best_local: 209/243\n",
      "Epoch: 92 best_global: 215/243, best_local: 211/243\n",
      "Epoch: 93 best_global: 215/243, best_local: 209/243\n",
      "Epoch: 94 best_global: 215/243, best_local: 214/243\n",
      "Epoch: 95 best_global: 215/243, best_local: 211/243\n",
      "Epoch: 96 best_global: 215/243, best_local: 212/243\n",
      "Epoch: 97 best_global: 215/243, best_local: 209/243\n",
      "Epoch: 98 best_global: 215/243, best_local: 209/243\n",
      "Epoch: 99 best_global: 215/243, best_local: 209/243\n"
     ]
    }
   ],
   "source": [
    "results = new_solver.solve(sudoku=sud, is_candidate_mode=True)"
   ]
  },
  {
   "cell_type": "code",
   "execution_count": 5,
   "metadata": {},
   "outputs": [],
   "source": [
    "best_chrom, score_best_global, best_per_iter, history = results"
   ]
  },
  {
   "cell_type": "code",
   "execution_count": 6,
   "metadata": {},
   "outputs": [
    {
     "data": {
      "text/plain": [
       "array([[5, 6, 3, 1, 9, 4, 8, 2, 5],\n",
       "       [1, 4, 9, 2, 8, 3, 1, 6, 7],\n",
       "       [4, 8, 2, 5, 6, 7, 9, 3, 4],\n",
       "       [2, 1, 4, 3, 7, 8, 6, 5, 9],\n",
       "       [7, 9, 8, 4, 5, 6, 2, 1, 5],\n",
       "       [3, 2, 8, 2, 1, 9, 4, 7, 5],\n",
       "       [9, 4, 1, 6, 3, 2, 5, 4, 2],\n",
       "       [2, 3, 1, 7, 5, 9, 1, 8, 6],\n",
       "       [8, 5, 7, 8, 4, 1, 3, 9, 9]])"
      ]
     },
     "execution_count": 6,
     "metadata": {},
     "output_type": "execute_result"
    }
   ],
   "source": [
    "best_chrom"
   ]
  }
 ],
 "metadata": {
  "kernelspec": {
   "display_name": "Python 3",
   "language": "python",
   "name": "python3"
  },
  "language_info": {
   "codemirror_mode": {
    "name": "ipython",
    "version": 3
   },
   "file_extension": ".py",
   "mimetype": "text/x-python",
   "name": "python",
   "nbconvert_exporter": "python",
   "pygments_lexer": "ipython3",
   "version": "3.9.6"
  },
  "orig_nbformat": 4,
  "vscode": {
   "interpreter": {
    "hash": "31f2aee4e71d21fbe5cf8b01ff0e069b9275f58929596ceb00d14d90e3e16cd6"
   }
  }
 },
 "nbformat": 4,
 "nbformat_minor": 2
}
