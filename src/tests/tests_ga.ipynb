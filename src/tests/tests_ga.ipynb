{
 "cells": [
  {
   "cell_type": "code",
   "execution_count": 1,
   "metadata": {},
   "outputs": [],
   "source": [
    "import numpy as np\n",
    "import matplotlib.pyplot as plt\n",
    "import sys\n",
    "sys.path.append(\"..\")\n",
    "from solvers.ga.ga_solver import GeneticAlgorithmSolver\n",
    "from problem.sudoku_manager import Sudoku, generate_boards\n",
    "from time import perf_counter"
   ]
  },
  {
   "cell_type": "code",
   "execution_count": 2,
   "metadata": {},
   "outputs": [],
   "source": [
    "SEED = 14"
   ]
  },
  {
   "cell_type": "code",
   "execution_count": 3,
   "metadata": {},
   "outputs": [],
   "source": [
    "NUM_OF_RUNS = 10\n",
    "NUM_OF_SUDOKUS = 10\n",
    "START_ID = 0"
   ]
  },
  {
   "cell_type": "code",
   "execution_count": 4,
   "metadata": {},
   "outputs": [],
   "source": [
    "suds_easy = [Sudoku('easy', id) for id in range(START_ID, START_ID + NUM_OF_SUDOKUS)]\n",
    "suds_medium = [Sudoku('medium', id) for id in range(START_ID, START_ID + NUM_OF_SUDOKUS)]\n",
    "suds_hard = [Sudoku('medium', id) for id in range(START_ID, START_ID + NUM_OF_SUDOKUS)]"
   ]
  },
  {
   "cell_type": "code",
   "execution_count": 5,
   "metadata": {},
   "outputs": [],
   "source": [
    "solver = GeneticAlgorithmSolver(\n",
    "    pop_size=500,\n",
    "    pc=0.8,\n",
    "    pm=0.15,\n",
    "    max_epoch=700,\n",
    "    reset_condition_val=150,\n",
    "    succession_rate=1,\n",
    "    seed=SEED,\n",
    ")"
   ]
  },
  {
   "cell_type": "code",
   "execution_count": null,
   "metadata": {},
   "outputs": [],
   "source": [
    "def test_ga_solver(solver, sudokus, candidates):\n",
    "    best_chrom_list = []\n",
    "    best_scores_list = []\n",
    "    best_per_iters = []\n",
    "    exec_times = []\n",
    "    for i in range(NUM_OF_SUDOKUS):\n",
    "        for j in range(NUM_OF_RUNS):\n",
    "            start_time = perf_counter()\n",
    "            results = solver.solve(sudoku=sudokus[i], is_candidate_mode=candidates)\n",
    "            exec_times.append(perf_counter() - start_time)\n",
    "            best_chrom_list.append(results[0])\n",
    "            best_scores_list.append(results[1])\n",
    "            best_per_iters.append(results[2])\n",
    "    return best_chrom_list, best_scores_list, best_per_iters, exec_times"
   ]
  },
  {
   "cell_type": "code",
   "execution_count": 8,
   "metadata": {},
   "outputs": [],
   "source": [
    "best_chroms, best_scores, best_per_iters, exec_times = test_ga_solver(solver, suds_easy, candidates=False)"
   ]
  },
  {
   "cell_type": "code",
   "execution_count": null,
   "metadata": {},
   "outputs": [],
   "source": [
    "plt.figure()\n",
    "plt.plot(range(len(best_scores)), best_scores, 'b', label='training data')\n",
    "plt.plot(range(len(valid_accs)), valid_accs, 'r', label='validation data')\n",
    "plt.legend(loc='upper left')\n",
    "plt.xlabel('epochs')\n",
    "plt.ylabel('accuracy')\n",
    "plt.show()"
   ]
  }
 ],
 "metadata": {
  "kernelspec": {
   "display_name": "Python 3",
   "language": "python",
   "name": "python3"
  },
  "language_info": {
   "codemirror_mode": {
    "name": "ipython",
    "version": 3
   },
   "file_extension": ".py",
   "mimetype": "text/x-python",
   "name": "python",
   "nbconvert_exporter": "python",
   "pygments_lexer": "ipython3",
   "version": "3.9.6"
  },
  "orig_nbformat": 4,
  "vscode": {
   "interpreter": {
    "hash": "31f2aee4e71d21fbe5cf8b01ff0e069b9275f58929596ceb00d14d90e3e16cd6"
   }
  }
 },
 "nbformat": 4,
 "nbformat_minor": 2
}
